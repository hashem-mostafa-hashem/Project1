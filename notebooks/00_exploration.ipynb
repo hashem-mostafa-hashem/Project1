{
 "cells": [
  {
   "cell_type": "code",
   "execution_count": 11,
   "id": "b3922529-73cf-4b5c-baa9-3ccf53e77842",
   "metadata": {},
   "outputs": [],
   "source": [
    "#Constants\n",
    "DATA_PATH = \"/Users/Hashem/Link TSP/Project1/data/raw/survey_results_public.csv\"\n",
    "EXPORT_PATH = 3\n",
    "\n",
    "REPLACE_DICT ={\n",
    "    'YearsCodePro' : {'Less than 1 year' : 0, 'More than 50 years' : 51},\n",
    "    'YearsCode' : {'Less than 1 year' : 0, 'More than 50 years' : 51},\n",
    "    'Age1stCode' : {'Older than 85' : 86, 'Younger than 5 years' : 4},\n",
    "}"
   ]
  },
  {
   "cell_type": "markdown",
   "id": "dbe7cd32",
   "metadata": {},
   "source": [
    "Libraries"
   ]
  },
  {
   "cell_type": "code",
   "execution_count": 12,
   "id": "eeaf7e83",
   "metadata": {},
   "outputs": [],
   "source": [
    "#Load packages\n",
    "import pandas as pd\n",
    "import numpy as np\n",
    "import logging\n",
    "import pickle\n",
    "import matplotlib.pyplot as plt\n",
    "import seaborn as sns\n",
    "pd.options.display.max_rows = 10000"
   ]
  },
  {
   "cell_type": "markdown",
   "id": "a9fe529c",
   "metadata": {},
   "source": [
    "Function"
   ]
  },
  {
   "cell_type": "code",
   "execution_count": 13,
   "id": "76c35d53",
   "metadata": {},
   "outputs": [],
   "source": [
    "def split_answers(data_series, delimiter=';'):\n",
    "    \"\"\"\n",
    "    Split multiple answer is a signal string\n",
    "    to a list of single each represnting a single answer\n",
    "\n",
    "    parameters:\n",
    "    data_series (pd.Series): String series with answers\n",
    "    delimiter (string): Another decimal integer\n",
    "                        Defaults to \";\"\n",
    "    \n",
    "    Returns: (pd.Series): If column contains\n",
    "    \"\"\"\n",
    "    #sub function\n",
    "    def is_splittable(pd_series, delimiter):\n",
    "        \"\"\" Check if results multiple should be sp;itted - Returns boolean \"\"\"\n",
    "        return pd_series.str.contains(delimiter)\n",
    "\n",
    "    def split_answer(pd_series, delimiter):\n",
    "        \"\"\" Function to split signle answer\"\"\"\n",
    "        return pd_series.str.split(delimiter)\n",
    "\n",
    "    #-------------------------------------------\n",
    "    #check if multiple answer exist - if name: return original\n",
    "    splittable_values = is_splittable(data_series, delimiter)\n",
    "    if not splittable_values.any():\n",
    "        return data_series\n",
    "    #Else, split each value to a list\n",
    "    modified_series = split_answer(data_series, delimiter)\n",
    "\n",
    "    #replace NAs with empty lists\n",
    "    mask_null = modified_series.isnull()\n",
    "    modified_series.loc[mask_null] = modified_series.loc[mask_null].apply(lambda x: [])\n",
    "\n"
   ]
  },
  {
   "cell_type": "markdown",
   "id": "260608af",
   "metadata": {},
   "source": [
    "Processing"
   ]
  },
  {
   "cell_type": "markdown",
   "id": "0e2ea112",
   "metadata": {},
   "source": [
    "Preprocess Data"
   ]
  },
  {
   "cell_type": "code",
   "execution_count": 14,
   "id": "4bd4b366",
   "metadata": {},
   "outputs": [],
   "source": [
    "raw_df= pd.read_csv(DATA_PATH)\n",
    "df = raw_df.copy()"
   ]
  },
  {
   "cell_type": "markdown",
   "id": "31aa52ff",
   "metadata": {},
   "source": [
    "1. Replace Values and parse"
   ]
  },
  {
   "cell_type": "code",
   "execution_count": 15,
   "id": "1e3f9df3",
   "metadata": {},
   "outputs": [],
   "source": [
    "for col, replacement in REPLACE_DICT.items():\n",
    "    df[col]= df[col].replace(replacement).astype(np.float32)"
   ]
  },
  {
   "cell_type": "markdown",
   "id": "7706d0ce",
   "metadata": {},
   "source": [
    "2. Split multiple answers"
   ]
  },
  {
   "cell_type": "code",
   "execution_count": 16,
   "id": "5d24645d",
   "metadata": {},
   "outputs": [],
   "source": [
    "object_cols = df.select_dtypes(include = 'object').columns.tolist()\n",
    "for col in object_cols:\n",
    "    df[col] = split_answers(df[col])"
   ]
  },
  {
   "cell_type": "markdown",
   "id": "6e2f0efc",
   "metadata": {},
   "source": [
    "Export Data"
   ]
  },
  {
   "cell_type": "code",
   "execution_count": 17,
   "id": "17fe81a8",
   "metadata": {},
   "outputs": [],
   "source": [
    "#df.to_pickle(EXPORT_PATH)"
   ]
  },
  {
   "cell_type": "code",
   "execution_count": 18,
   "id": "6ee4098e",
   "metadata": {},
   "outputs": [
    {
     "data": {
      "text/plain": [
       "(64461, 61)"
      ]
     },
     "execution_count": 18,
     "metadata": {},
     "output_type": "execute_result"
    }
   ],
   "source": [
    "raw_df.shape"
   ]
  },
  {
   "cell_type": "code",
   "execution_count": 19,
   "id": "7c5a14ca",
   "metadata": {},
   "outputs": [
    {
     "data": {
      "text/plain": [
       "Respondent                                                                  60565\n",
       "MainBranch                                         I am a developer by profession\n",
       "Hobbyist                                                                      Yes\n",
       "Age                                                                          31.0\n",
       "Age1stCode                                                                     18\n",
       "CompFreq                                                                  Monthly\n",
       "CompTotal                                                                 32000.0\n",
       "ConvertedComp                                                              7584.0\n",
       "Country                                                               Philippines\n",
       "CurrencyDesc                                                      Philippine peso\n",
       "CurrencySymbol                                                                PHP\n",
       "DatabaseDesireNextYear          Elasticsearch;Firebase;MySQL;PostgreSQL;Redis;...\n",
       "DatabaseWorkedWith                    Elasticsearch;MySQL;PostgreSQL;Redis;SQLite\n",
       "DevType                                 Developer, back-end;Developer, full-stack\n",
       "EdLevel                              Bachelor’s degree (B.A., B.S., B.Eng., etc.)\n",
       "Employment                      Independent contractor, freelancer, or self-em...\n",
       "Ethnicity                                                         Southeast Asian\n",
       "Gender                                                                        Man\n",
       "JobFactors                      Diversity of the company or organization;Flex ...\n",
       "JobSat                                                         Slightly satisfied\n",
       "JobSeek                                           I am actively looking for a job\n",
       "LanguageDesireNextYear          Bash/Shell/PowerShell;HTML/CSS;JavaScript;Pyth...\n",
       "LanguageWorkedWith              Bash/Shell/PowerShell;HTML/CSS;JavaScript;Pyth...\n",
       "MiscTechDesireNextYear                                               React Native\n",
       "MiscTechWorkedWith                                                   React Native\n",
       "NEWCollabToolsDesireNextYear    Jira;Github;Facebook Workplace;Slack;Trello;Go...\n",
       "NEWCollabToolsWorkedWith        Github;Slack;Trello;Google Suite (Docs, Meet, ...\n",
       "NEWDevOps                                                                Not sure\n",
       "NEWDevOpsImpt                                                             Neutral\n",
       "NEWEdImpt                                                          Very important\n",
       "NEWJobHunt                                                    Looking to relocate\n",
       "NEWJobHuntResearch              Read company media, such as employee blogs or ...\n",
       "NEWLearn                                                         Every few months\n",
       "NEWOffTopic                                                              Not sure\n",
       "NEWOnboardGood                                                                Yes\n",
       "NEWOtherComms                                                                 Yes\n",
       "NEWOvertime                                      Often: 1-2 days per week or more\n",
       "NEWPurchaseResearch                                            Start a free trial\n",
       "NEWPurpleLink                                                             Annoyed\n",
       "NEWSOSites                      Stack Overflow (public Q&A for anyone who code...\n",
       "NEWStuck                        Visit Stack Overflow;Go for a walk or other ph...\n",
       "OpSys                                                                       MacOS\n",
       "OrgSize                         Just me - I am a freelancer, sole proprietor, ...\n",
       "PlatformDesireNextYear                     AWS;Google Cloud Platform;Heroku;MacOS\n",
       "PlatformWorkedWith                                     AWS;Heroku;MacOS;WordPress\n",
       "PurchaseWhat                                                                  NaN\n",
       "Sexuality                                                 Straight / Heterosexual\n",
       "SOAccount                                                                     Yes\n",
       "SOComm                                                              Yes, somewhat\n",
       "SOPartFreq                                        A few times per month or weekly\n",
       "SOVisitFreq                                                 Daily or almost daily\n",
       "SurveyEase                                             Neither easy nor difficult\n",
       "SurveyLength                                                Appropriate in length\n",
       "Trans                                                                          No\n",
       "UndergradMajor                  Computer science, computer engineering, or sof...\n",
       "WebframeDesireNextYear          Django;Flask;Gatsby;React.js;Ruby on Rails;Vue.js\n",
       "WebframeWorkedWith                                  Django;React.js;Ruby on Rails\n",
       "WelcomeChange                            Somewhat less welcome now than last year\n",
       "WorkWeekHrs                                                                  25.0\n",
       "YearsCode                                                                       2\n",
       "YearsCodePro                                                                    1\n",
       "Name: 59387, dtype: object"
      ]
     },
     "execution_count": 19,
     "metadata": {},
     "output_type": "execute_result"
    }
   ],
   "source": [
    "#Display random answer\n",
    "#Observations: Multiple answers need to be splitted\n",
    "#Reference to the schema needed to understannd\n",
    "raw_df.sample(1).iloc[0]"
   ]
  },
  {
   "cell_type": "code",
   "execution_count": 20,
   "id": "a664dc5c",
   "metadata": {},
   "outputs": [
    {
     "name": "stdout",
     "output_type": "stream",
     "text": [
      "<class 'pandas.core.frame.DataFrame'>\n",
      "RangeIndex: 64461 entries, 0 to 64460\n",
      "Data columns (total 61 columns):\n",
      " #   Column                        Non-Null Count  Dtype  \n",
      "---  ------                        --------------  -----  \n",
      " 0   Respondent                    64461 non-null  int64  \n",
      " 1   MainBranch                    64162 non-null  object \n",
      " 2   Hobbyist                      64416 non-null  object \n",
      " 3   Age                           45446 non-null  float64\n",
      " 4   Age1stCode                    57900 non-null  object \n",
      " 5   CompFreq                      40069 non-null  object \n",
      " 6   CompTotal                     34826 non-null  float64\n",
      " 7   ConvertedComp                 34756 non-null  float64\n",
      " 8   Country                       64072 non-null  object \n",
      " 9   CurrencyDesc                  45472 non-null  object \n",
      " 10  CurrencySymbol                45472 non-null  object \n",
      " 11  DatabaseDesireNextYear        44070 non-null  object \n",
      " 12  DatabaseWorkedWith            49537 non-null  object \n",
      " 13  DevType                       49370 non-null  object \n",
      " 14  EdLevel                       57431 non-null  object \n",
      " 15  Employment                    63854 non-null  object \n",
      " 16  Ethnicity                     45948 non-null  object \n",
      " 17  Gender                        50557 non-null  object \n",
      " 18  JobFactors                    49349 non-null  object \n",
      " 19  JobSat                        45194 non-null  object \n",
      " 20  JobSeek                       51727 non-null  object \n",
      " 21  LanguageDesireNextYear        54113 non-null  object \n",
      " 22  LanguageWorkedWith            57378 non-null  object \n",
      " 23  MiscTechDesireNextYear        42379 non-null  object \n",
      " 24  MiscTechWorkedWith            40314 non-null  object \n",
      " 25  NEWCollabToolsDesireNextYear  47287 non-null  object \n",
      " 26  NEWCollabToolsWorkedWith      52883 non-null  object \n",
      " 27  NEWDevOps                     42686 non-null  object \n",
      " 28  NEWDevOpsImpt                 41732 non-null  object \n",
      " 29  NEWEdImpt                     48465 non-null  object \n",
      " 30  NEWJobHunt                    42286 non-null  object \n",
      " 31  NEWJobHuntResearch            41022 non-null  object \n",
      " 32  NEWLearn                      56156 non-null  object \n",
      " 33  NEWOffTopic                   50804 non-null  object \n",
      " 34  NEWOnboardGood                42623 non-null  object \n",
      " 35  NEWOtherComms                 57205 non-null  object \n",
      " 36  NEWOvertime                   43231 non-null  object \n",
      " 37  NEWPurchaseResearch           37321 non-null  object \n",
      " 38  NEWPurpleLink                 54803 non-null  object \n",
      " 39  NEWSOSites                    58275 non-null  object \n",
      " 40  NEWStuck                      54983 non-null  object \n",
      " 41  OpSys                         56228 non-null  object \n",
      " 42  OrgSize                       44334 non-null  object \n",
      " 43  PlatformDesireNextYear        50605 non-null  object \n",
      " 44  PlatformWorkedWith            53843 non-null  object \n",
      " 45  PurchaseWhat                  39364 non-null  object \n",
      " 46  Sexuality                     43992 non-null  object \n",
      " 47  SOAccount                     56805 non-null  object \n",
      " 48  SOComm                        56476 non-null  object \n",
      " 49  SOPartFreq                    46792 non-null  object \n",
      " 50  SOVisitFreq                   56970 non-null  object \n",
      " 51  SurveyEase                    51802 non-null  object \n",
      " 52  SurveyLength                  51701 non-null  object \n",
      " 53  Trans                         49345 non-null  object \n",
      " 54  UndergradMajor                50995 non-null  object \n",
      " 55  WebframeDesireNextYear        40024 non-null  object \n",
      " 56  WebframeWorkedWith            42279 non-null  object \n",
      " 57  WelcomeChange                 52683 non-null  object \n",
      " 58  WorkWeekHrs                   41151 non-null  float64\n",
      " 59  YearsCode                     57684 non-null  object \n",
      " 60  YearsCodePro                  46349 non-null  object \n",
      "dtypes: float64(4), int64(1), object(56)\n",
      "memory usage: 30.0+ MB\n"
     ]
    }
   ],
   "source": [
    "raw_df.info()"
   ]
  },
  {
   "cell_type": "code",
   "execution_count": 21,
   "id": "000702a4",
   "metadata": {},
   "outputs": [
    {
     "data": {
      "text/html": [
       "<div>\n",
       "<style scoped>\n",
       "    .dataframe tbody tr th:only-of-type {\n",
       "        vertical-align: middle;\n",
       "    }\n",
       "\n",
       "    .dataframe tbody tr th {\n",
       "        vertical-align: top;\n",
       "    }\n",
       "\n",
       "    .dataframe thead th {\n",
       "        text-align: right;\n",
       "    }\n",
       "</style>\n",
       "<table border=\"1\" class=\"dataframe\">\n",
       "  <thead>\n",
       "    <tr style=\"text-align: right;\">\n",
       "      <th></th>\n",
       "      <th>Respondent</th>\n",
       "      <th>Age</th>\n",
       "      <th>CompTotal</th>\n",
       "      <th>ConvertedComp</th>\n",
       "      <th>WorkWeekHrs</th>\n",
       "    </tr>\n",
       "  </thead>\n",
       "  <tbody>\n",
       "    <tr>\n",
       "      <th>count</th>\n",
       "      <td>64461.000000</td>\n",
       "      <td>45446.000000</td>\n",
       "      <td>3.482600e+04</td>\n",
       "      <td>3.475600e+04</td>\n",
       "      <td>41151.000000</td>\n",
       "    </tr>\n",
       "    <tr>\n",
       "      <th>mean</th>\n",
       "      <td>32554.079738</td>\n",
       "      <td>30.834111</td>\n",
       "      <td>3.190464e+242</td>\n",
       "      <td>1.037561e+05</td>\n",
       "      <td>40.782174</td>\n",
       "    </tr>\n",
       "    <tr>\n",
       "      <th>std</th>\n",
       "      <td>18967.442360</td>\n",
       "      <td>9.585392</td>\n",
       "      <td>inf</td>\n",
       "      <td>2.268853e+05</td>\n",
       "      <td>17.816383</td>\n",
       "    </tr>\n",
       "    <tr>\n",
       "      <th>min</th>\n",
       "      <td>1.000000</td>\n",
       "      <td>1.000000</td>\n",
       "      <td>0.000000e+00</td>\n",
       "      <td>0.000000e+00</td>\n",
       "      <td>1.000000</td>\n",
       "    </tr>\n",
       "    <tr>\n",
       "      <th>25%</th>\n",
       "      <td>16116.000000</td>\n",
       "      <td>24.000000</td>\n",
       "      <td>2.000000e+04</td>\n",
       "      <td>2.464800e+04</td>\n",
       "      <td>40.000000</td>\n",
       "    </tr>\n",
       "    <tr>\n",
       "      <th>50%</th>\n",
       "      <td>32231.000000</td>\n",
       "      <td>29.000000</td>\n",
       "      <td>6.300000e+04</td>\n",
       "      <td>5.404900e+04</td>\n",
       "      <td>40.000000</td>\n",
       "    </tr>\n",
       "    <tr>\n",
       "      <th>75%</th>\n",
       "      <td>49142.000000</td>\n",
       "      <td>35.000000</td>\n",
       "      <td>1.250000e+05</td>\n",
       "      <td>9.500000e+04</td>\n",
       "      <td>44.000000</td>\n",
       "    </tr>\n",
       "    <tr>\n",
       "      <th>max</th>\n",
       "      <td>65639.000000</td>\n",
       "      <td>279.000000</td>\n",
       "      <td>1.111111e+247</td>\n",
       "      <td>2.000000e+06</td>\n",
       "      <td>475.000000</td>\n",
       "    </tr>\n",
       "  </tbody>\n",
       "</table>\n",
       "</div>"
      ],
      "text/plain": [
       "         Respondent           Age      CompTotal  ConvertedComp   WorkWeekHrs\n",
       "count  64461.000000  45446.000000   3.482600e+04   3.475600e+04  41151.000000\n",
       "mean   32554.079738     30.834111  3.190464e+242   1.037561e+05     40.782174\n",
       "std    18967.442360      9.585392            inf   2.268853e+05     17.816383\n",
       "min        1.000000      1.000000   0.000000e+00   0.000000e+00      1.000000\n",
       "25%    16116.000000     24.000000   2.000000e+04   2.464800e+04     40.000000\n",
       "50%    32231.000000     29.000000   6.300000e+04   5.404900e+04     40.000000\n",
       "75%    49142.000000     35.000000   1.250000e+05   9.500000e+04     44.000000\n",
       "max    65639.000000    279.000000  1.111111e+247   2.000000e+06    475.000000"
      ]
     },
     "execution_count": 21,
     "metadata": {},
     "output_type": "execute_result"
    }
   ],
   "source": [
    "raw_df.describe()"
   ]
  },
  {
   "cell_type": "code",
   "execution_count": 22,
   "id": "ab9ac15f",
   "metadata": {},
   "outputs": [],
   "source": [
    "questionable_cols=['YearsCodePro', 'YearsCode', 'Age1stCode']"
   ]
  },
  {
   "cell_type": "code",
   "execution_count": 25,
   "id": "1a852c0a",
   "metadata": {},
   "outputs": [
    {
     "name": "stdout",
     "output_type": "stream",
     "text": [
      "YearsCodePro\n",
      "[27.0, 4.0, nan, 8.0, 13.0, 2.0, 7.0, 20.0, 1.0, 23.0, 3.0, 12.0, 17.0, 18.0, 10.0, 14.0, 29.0, 6.0, 28.0, 9.0, 15.0, 11.0, 16.0, 25.0, 0.0, 5.0, 21.0, 19.0, 35.0, 24.0, 32.0, 22.0, 30.0, 38.0, 26.0, 40.0, 33.0, 31.0, 51.0, 34.0, 36.0, 39.0, 37.0, 41.0, 45.0, 47.0, 42.0, 46.0, 50.0, 43.0, 44.0, 48.0, 49.0]\n",
      "---------------\n",
      "\n",
      "YearsCode\n",
      "[36.0, 7.0, 4.0, 15.0, 6.0, 17.0, 8.0, 10.0, 35.0, 5.0, 37.0, 19.0, 9.0, 22.0, 30.0, 23.0, 20.0, 2.0, 0.0, 3.0, 13.0, 25.0, 16.0, 43.0, 11.0, 38.0, 33.0, nan, 24.0, 21.0, 12.0, 40.0, 27.0, 50.0, 46.0, 14.0, 18.0, 28.0, 32.0, 44.0, 26.0, 42.0, 31.0, 34.0, 29.0, 1.0, 39.0, 41.0, 45.0, 51.0, 47.0, 49.0, 48.0]\n",
      "---------------\n",
      "\n",
      "Age1stCode\n",
      "[13.0, 19.0, 15.0, 18.0, 16.0, 14.0, 12.0, 20.0, 42.0, 8.0, 25.0, 22.0, 30.0, 17.0, 21.0, 10.0, 46.0, 9.0, 7.0, 11.0, 6.0, nan, 31.0, 29.0, 5.0, 4.0, 28.0, 38.0, 23.0, 27.0, 41.0, 24.0, 53.0, 26.0, 35.0, 32.0, 40.0, 33.0, 36.0, 54.0, 48.0, 56.0, 45.0, 44.0, 34.0, 86.0, 39.0, 51.0, 68.0, 50.0, 37.0, 47.0, 43.0, 52.0, 85.0, 64.0, 55.0, 58.0, 49.0, 76.0, 72.0, 73.0, 83.0, 63.0]\n",
      "---------------\n",
      "\n"
     ]
    }
   ],
   "source": [
    "for col in questionable_cols:\n",
    "    print(col)\n",
    "    print(df[col].unique().tolist())\n",
    "    print('---------------')\n",
    "    print()"
   ]
  },
  {
   "cell_type": "code",
   "execution_count": 24,
   "id": "2c947bb0",
   "metadata": {},
   "outputs": [
    {
     "data": {
      "text/plain": [
       "Respondent                      64461\n",
       "MainBranch                          5\n",
       "Hobbyist                            2\n",
       "Age                               110\n",
       "Age1stCode                         63\n",
       "CompFreq                            3\n",
       "CompTotal                        3003\n",
       "ConvertedComp                    6958\n",
       "Country                           183\n",
       "CurrencyDesc                      142\n",
       "CurrencySymbol                    141\n",
       "DatabaseDesireNextYear           3193\n",
       "DatabaseWorkedWith               2808\n",
       "DevType                          8269\n",
       "EdLevel                             9\n",
       "Employment                          7\n",
       "Ethnicity                         208\n",
       "Gender                              7\n",
       "JobFactors                        230\n",
       "JobSat                              5\n",
       "JobSeek                             3\n",
       "LanguageDesireNextYear          16243\n",
       "LanguageWorkedWith              14256\n",
       "MiscTechDesireNextYear           5216\n",
       "MiscTechWorkedWith               2730\n",
       "NEWCollabToolsDesireNextYear     1277\n",
       "NEWCollabToolsWorkedWith         1153\n",
       "NEWDevOps                           3\n",
       "NEWDevOpsImpt                       5\n",
       "NEWEdImpt                           5\n",
       "NEWJobHunt                       2172\n",
       "NEWJobHuntResearch                 63\n",
       "NEWLearn                            4\n",
       "NEWOffTopic                         3\n",
       "NEWOnboardGood                      3\n",
       "NEWOtherComms                       2\n",
       "NEWOvertime                         5\n",
       "NEWPurchaseResearch                63\n",
       "NEWPurpleLink                       4\n",
       "NEWSOSites                         61\n",
       "NEWStuck                          444\n",
       "OpSys                               4\n",
       "OrgSize                             9\n",
       "PlatformDesireNextYear           7471\n",
       "PlatformWorkedWith               6287\n",
       "PurchaseWhat                        3\n",
       "Sexuality                          14\n",
       "SOAccount                           3\n",
       "SOComm                              6\n",
       "SOPartFreq                          6\n",
       "SOVisitFreq                         6\n",
       "SurveyEase                          3\n",
       "SurveyLength                        3\n",
       "Trans                               2\n",
       "UndergradMajor                     12\n",
       "WebframeDesireNextYear           3986\n",
       "WebframeWorkedWith               3789\n",
       "WelcomeChange                       6\n",
       "WorkWeekHrs                       157\n",
       "YearsCode                          52\n",
       "YearsCodePro                       52\n",
       "dtype: int64"
      ]
     },
     "execution_count": 24,
     "metadata": {},
     "output_type": "execute_result"
    }
   ],
   "source": [
    "raw_df.nunique()"
   ]
  },
  {
   "cell_type": "code",
   "execution_count": null,
   "id": "498f74d0",
   "metadata": {},
   "outputs": [],
   "source": []
  }
 ],
 "metadata": {
  "kernelspec": {
   "display_name": "Python 3 (ipykernel)",
   "language": "python",
   "name": "python3"
  },
  "language_info": {
   "codemirror_mode": {
    "name": "ipython",
    "version": 3
   },
   "file_extension": ".py",
   "mimetype": "text/x-python",
   "name": "python",
   "nbconvert_exporter": "python",
   "pygments_lexer": "ipython3",
   "version": "3.9.12"
  },
  "vscode": {
   "interpreter": {
    "hash": "d572515f1fff8ca12152bda1aafe196fc70506fd3204d9cbfbbbd2ed6f446cdc"
   }
  }
 },
 "nbformat": 4,
 "nbformat_minor": 5
}
