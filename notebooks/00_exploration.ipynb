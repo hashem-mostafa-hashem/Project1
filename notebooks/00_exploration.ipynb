{
 "cells": [
  {
   "cell_type": "code",
   "execution_count": 2,
   "id": "b3922529-73cf-4b5c-baa9-3ccf53e77842",
   "metadata": {},
   "outputs": [],
   "source": [
    "DATA_PATH = '/Users/Hashem/Link TSP/Project1/data/raw/survey_results_public.csv'"
   ]
  }
 ],
 "metadata": {
  "kernelspec": {
   "display_name": "Python 3 (ipykernel)",
   "language": "python",
   "name": "python3"
  },
  "language_info": {
   "codemirror_mode": {
    "name": "ipython",
    "version": 3
   },
   "file_extension": ".py",
   "mimetype": "text/x-python",
   "name": "python",
   "nbconvert_exporter": "python",
   "pygments_lexer": "ipython3",
   "version": "3.9.12"
  },
  "vscode": {
   "interpreter": {
    "hash": "d572515f1fff8ca12152bda1aafe196fc70506fd3204d9cbfbbbd2ed6f446cdc"
   }
  }
 },
 "nbformat": 4,
 "nbformat_minor": 5
}
