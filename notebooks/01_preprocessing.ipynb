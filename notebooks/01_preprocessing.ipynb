{
 "cells": [
  {
   "cell_type": "code",
   "execution_count": null,
   "metadata": {},
   "outputs": [],
   "source": [
    "#Constants\n",
    "DATA_PATH = \"/Users/Hashem/Link TSP/Project1/data/raw/survey_results_public.csv\"\n",
    "EXPORT_PATH = 3\n",
    "\n",
    "REPLACE_DICT ={\n",
    "    'YearCodePro' : {'Less than 1 year' : 0, 'More than 50 years' : 51},\n",
    "    'YearCode' : {'Less than 1 year' : 0, 'More than 50 years' : 51},\n",
    "    'Ahe1stcode' : {'Older than 85' : 86, 'Younger than 5 years' : 4},\n",
    "}"
   ]
  },
  {
   "cell_type": "markdown",
   "metadata": {},
   "source": [
    "Libraries"
   ]
  },
  {
   "cell_type": "code",
   "execution_count": null,
   "metadata": {},
   "outputs": [],
   "source": [
    "#Load packages\n",
    "import pandas as pd\n",
    "import numpy as np\n",
    "import logging\n",
    "import pickle\n",
    "import matplotlib.pyplot as plt\n",
    "import seaborn as sns\n",
    "pd.options.display.max_rows = 10000"
   ]
  },
  {
   "cell_type": "markdown",
   "metadata": {},
   "source": [
    "Function"
   ]
  },
  {
   "cell_type": "code",
   "execution_count": null,
   "metadata": {},
   "outputs": [],
   "source": []
  }
 ],
 "metadata": {
  "language_info": {
   "name": "python"
  },
  "orig_nbformat": 4
 },
 "nbformat": 4,
 "nbformat_minor": 2
}
