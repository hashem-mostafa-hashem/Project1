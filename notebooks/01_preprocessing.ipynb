{
 "cells": [
  {
   "cell_type": "code",
   "execution_count": 9,
   "metadata": {},
   "outputs": [],
   "source": [
    "#Constants\n",
    "DATA_PATH = \"/Users/Hashem/Link TSP/Project1/data/raw/survey_results_public.csv\"\n",
    "EXPORT_PATH = \"/Users/Hashem/Link TSP/Project1/data/processed/1_preprocessed_df.pkl\"\n",
    "\n",
    "REPLACE_DICT ={\n",
    "    'YearsCodePro' : {'Less than 1 year' : 0, 'More than 50 years' : 51},\n",
    "    'YearsCode' : {'Less than 1 year' : 0, 'More than 50 years' : 51},\n",
    "    'Age1stCode' : {'Older than 85' : 86, 'Younger than 5 years' : 4},\n",
    "}"
   ]
  },
  {
   "cell_type": "markdown",
   "metadata": {},
   "source": [
    "Libraries"
   ]
  },
  {
   "cell_type": "code",
   "execution_count": 10,
   "metadata": {},
   "outputs": [],
   "source": [
    "#Load packages\n",
    "import pandas as pd\n",
    "import numpy as np\n",
    "import logging\n",
    "import pickle\n",
    "import matplotlib.pyplot as plt\n",
    "import seaborn as sns\n",
    "pd.options.display.max_rows = 10000"
   ]
  },
  {
   "cell_type": "markdown",
   "metadata": {},
   "source": [
    "Function"
   ]
  },
  {
   "cell_type": "code",
   "execution_count": 11,
   "metadata": {},
   "outputs": [],
   "source": [
    "def split_answers(data_series, delimiter=';'):\n",
    "    \"\"\"\n",
    "    Split multiple answer is a signal string\n",
    "    to a list of single each represnting a single answer\n",
    "\n",
    "    parameters:\n",
    "    data_series (pd.Series): String series with answers\n",
    "    delimiter (string): Another decimal integer\n",
    "                        Defaults to \";\"\n",
    "    \n",
    "    Returns: (pd.Series): If column contains\n",
    "    \"\"\"\n",
    "    #sub function\n",
    "    def is_splittable(pd_series, delimiter):\n",
    "        \"\"\" Check if results multiple should be sp;itted - Returns boolean \"\"\"\n",
    "        return pd_series.str.contains(delimiter)\n",
    "\n",
    "    def split_answer(pd_series, delimiter):\n",
    "        \"\"\" Function to split signle answer\"\"\"\n",
    "        return pd_series.str.split(delimiter)\n",
    "\n",
    "    #-------------------------------------------\n",
    "    #check if multiple answer exist - if name: return original\n",
    "    splittable_values = is_splittable(data_series, delimiter)\n",
    "    if not splittable_values.any():\n",
    "        return data_series\n",
    "    #Else, split each value to a list\n",
    "    modified_series = split_answer(data_series, delimiter)\n",
    "\n",
    "    #replace NAs with empty lists\n",
    "    mask_null = modified_series.isnull()\n",
    "    modified_series.loc[mask_null] = modified_series.loc[mask_null].apply(lambda x: [])"
   ]
  },
  {
   "cell_type": "markdown",
   "metadata": {},
   "source": [
    "Processing"
   ]
  },
  {
   "cell_type": "markdown",
   "metadata": {},
   "source": [
    "Preprocess Data"
   ]
  },
  {
   "cell_type": "code",
   "execution_count": 12,
   "metadata": {},
   "outputs": [],
   "source": [
    "raw_df= pd.read_csv(DATA_PATH)\n",
    "df = raw_df.copy()"
   ]
  },
  {
   "cell_type": "markdown",
   "metadata": {},
   "source": [
    "1. Replace Values and parse"
   ]
  },
  {
   "cell_type": "code",
   "execution_count": 13,
   "metadata": {},
   "outputs": [],
   "source": [
    "for col, replacement in REPLACE_DICT.items():\n",
    "    df[col]= df[col].replace(replacement).astype(np.float32)"
   ]
  },
  {
   "cell_type": "markdown",
   "metadata": {},
   "source": [
    "2. Split multiple answers"
   ]
  },
  {
   "cell_type": "code",
   "execution_count": 14,
   "metadata": {},
   "outputs": [],
   "source": [
    "object_cols = df.select_dtypes(include = 'object').columns.tolist()\n",
    "for col in object_cols:\n",
    "    df[col] = split_answers(df[col])"
   ]
  },
  {
   "cell_type": "markdown",
   "metadata": {},
   "source": [
    "Export Data"
   ]
  },
  {
   "cell_type": "code",
   "execution_count": 15,
   "metadata": {},
   "outputs": [],
   "source": [
    "df.to_pickle(EXPORT_PATH)"
   ]
  },
  {
   "cell_type": "code",
   "execution_count": null,
   "metadata": {},
   "outputs": [],
   "source": []
  }
 ],
 "metadata": {
  "kernelspec": {
   "display_name": "Python 3.9.12 64-bit",
   "language": "python",
   "name": "python3"
  },
  "language_info": {
   "codemirror_mode": {
    "name": "ipython",
    "version": 3
   },
   "file_extension": ".py",
   "mimetype": "text/x-python",
   "name": "python",
   "nbconvert_exporter": "python",
   "pygments_lexer": "ipython3",
   "version": "3.9.12"
  },
  "orig_nbformat": 4,
  "vscode": {
   "interpreter": {
    "hash": "d572515f1fff8ca12152bda1aafe196fc70506fd3204d9cbfbbbd2ed6f446cdc"
   }
  }
 },
 "nbformat": 4,
 "nbformat_minor": 2
}
