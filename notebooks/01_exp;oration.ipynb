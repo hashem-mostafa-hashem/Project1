{
 "cells": [
  {
   "cell_type": "code",
   "execution_count": 1,
   "metadata": {},
   "outputs": [],
   "source": [
    "DF_PATH = \"../data/processed/1_preprocessed_df.pkl\"\n",
    "ROLES_PATH = \"../data/raw/roles_short_names.csv\"\n",
    "NA_STRAING = 'Not Specified'\n",
    "TRANSPARENT_STRING = 'rgba(0, 0, 0, 0)'\n",
    "\n",
    "ROLE_COLS      = ['DevType']\n",
    "TECH_COLS      = ['LanguageWorkedWith', 'DatabaseWorkedWith', 'WebframeWorkedWith', 'MiscTechWorkedWith', ]\n",
    "TECH_NEXT_COLS = ['LanguageDesireNextYear', 'DatabaseDesireNextYear', 'WebframeDesireNextYear', 'MiscTechDesireNextYear',]\n"
   ]
  },
  {
   "cell_type": "code",
   "execution_count": 2,
   "metadata": {},
   "outputs": [],
   "source": [
    "# load packages\n",
    "import pandas as pd\n",
    "import numpy as np\n",
    "import logging \n",
    "import pickle\n",
    "\n",
    "import plotly\n",
    "import plotly.graph_objects as go \n",
    "from plotly.subplots import make_subplots\n",
    "import plotly.express as px\n",
    "import plotly.figure_factory as ff\n",
    "\n",
    "from sklearn.manifold import TSNE\n",
    "from sklearn.preprocessing import MultiLabelBinarizer\n",
    "from sklearn.preprocessing import StandardScaler\n",
    "from sklearn.preprocessing import RobustScaler\n",
    "from sklearn.preprocessing import MinMaxScaler\n",
    "from sklearn.pipeline import make_pipeline\n",
    "from sklearn.cluster import AgglomerativeClustering\n",
    "\n",
    "from matplotlib import pyplot as plt\n",
    "from scipy.cluster.hierarchy import dendrogram"
   ]
  },
  {
   "cell_type": "markdown",
   "metadata": {},
   "source": [
    "Read Data and Preprocess"
   ]
  },
  {
   "cell_type": "code",
   "execution_count": 3,
   "metadata": {},
   "outputs": [],
   "source": [
    "# Read Data\n",
    "raw_df = pd.read_pickle(DF_PATH)\n",
    "#roles_names = pd.read_csv(ROLES_PATH, sep=';')\n",
    "\n"
   ]
  },
  {
   "cell_type": "code",
   "execution_count": 4,
   "metadata": {},
   "outputs": [
    {
     "data": {
      "text/html": [
       "<div>\n",
       "<style scoped>\n",
       "    .dataframe tbody tr th:only-of-type {\n",
       "        vertical-align: middle;\n",
       "    }\n",
       "\n",
       "    .dataframe tbody tr th {\n",
       "        vertical-align: top;\n",
       "    }\n",
       "\n",
       "    .dataframe thead th {\n",
       "        text-align: right;\n",
       "    }\n",
       "</style>\n",
       "<table border=\"1\" class=\"dataframe\">\n",
       "  <thead>\n",
       "    <tr style=\"text-align: right;\">\n",
       "      <th></th>\n",
       "      <th>DevType</th>\n",
       "      <th>LanguageWorkedWith</th>\n",
       "      <th>DatabaseWorkedWith</th>\n",
       "      <th>WebframeWorkedWith</th>\n",
       "      <th>MiscTechWorkedWith</th>\n",
       "    </tr>\n",
       "  </thead>\n",
       "  <tbody>\n",
       "    <tr>\n",
       "      <th>0</th>\n",
       "      <td>[Developer,  desktop or enterprise application...</td>\n",
       "      <td>C#;HTML/CSS;JavaScript</td>\n",
       "      <td>Elasticsearch;Microsoft SQL Server;Oracle</td>\n",
       "      <td>ASP.NET;ASP.NET Core</td>\n",
       "      <td>.NET;.NET Core</td>\n",
       "    </tr>\n",
       "    <tr>\n",
       "      <th>1</th>\n",
       "      <td>[Developer,  full-stack;Developer,  mobile]</td>\n",
       "      <td>JavaScript;Swift</td>\n",
       "      <td>NaN</td>\n",
       "      <td>NaN</td>\n",
       "      <td>React Native</td>\n",
       "    </tr>\n",
       "    <tr>\n",
       "      <th>2</th>\n",
       "      <td>[]</td>\n",
       "      <td>Objective-C;Python;Swift</td>\n",
       "      <td>NaN</td>\n",
       "      <td>NaN</td>\n",
       "      <td>NaN</td>\n",
       "    </tr>\n",
       "    <tr>\n",
       "      <th>3</th>\n",
       "      <td>[]</td>\n",
       "      <td>NaN</td>\n",
       "      <td>NaN</td>\n",
       "      <td>NaN</td>\n",
       "      <td>NaN</td>\n",
       "    </tr>\n",
       "    <tr>\n",
       "      <th>4</th>\n",
       "      <td>[]</td>\n",
       "      <td>HTML/CSS;Ruby;SQL</td>\n",
       "      <td>MySQL;PostgreSQL;Redis;SQLite</td>\n",
       "      <td>Ruby on Rails</td>\n",
       "      <td>Ansible</td>\n",
       "    </tr>\n",
       "    <tr>\n",
       "      <th>...</th>\n",
       "      <td>...</td>\n",
       "      <td>...</td>\n",
       "      <td>...</td>\n",
       "      <td>...</td>\n",
       "      <td>...</td>\n",
       "    </tr>\n",
       "    <tr>\n",
       "      <th>64456</th>\n",
       "      <td>[Senior executive/VP]</td>\n",
       "      <td>NaN</td>\n",
       "      <td>NaN</td>\n",
       "      <td>NaN</td>\n",
       "      <td>NaN</td>\n",
       "    </tr>\n",
       "    <tr>\n",
       "      <th>64457</th>\n",
       "      <td>[]</td>\n",
       "      <td>Assembly;Bash/Shell/PowerShell;C;C#;C++;Dart;G...</td>\n",
       "      <td>Cassandra;Couchbase;DynamoDB;Elasticsearch;Fir...</td>\n",
       "      <td>NaN</td>\n",
       "      <td>NaN</td>\n",
       "    </tr>\n",
       "    <tr>\n",
       "      <th>64458</th>\n",
       "      <td>[]</td>\n",
       "      <td>NaN</td>\n",
       "      <td>NaN</td>\n",
       "      <td>NaN</td>\n",
       "      <td>NaN</td>\n",
       "    </tr>\n",
       "    <tr>\n",
       "      <th>64459</th>\n",
       "      <td>[]</td>\n",
       "      <td>HTML/CSS</td>\n",
       "      <td>Oracle</td>\n",
       "      <td>NaN</td>\n",
       "      <td>NaN</td>\n",
       "    </tr>\n",
       "    <tr>\n",
       "      <th>64460</th>\n",
       "      <td>[]</td>\n",
       "      <td>C#;HTML/CSS;Java;JavaScript;SQL</td>\n",
       "      <td>MariaDB;Microsoft SQL Server;MySQL;Oracle</td>\n",
       "      <td>Angular;Angular.js;ASP.NET Core;jQuery</td>\n",
       "      <td>.NET;.NET Core</td>\n",
       "    </tr>\n",
       "  </tbody>\n",
       "</table>\n",
       "<p>64461 rows × 5 columns</p>\n",
       "</div>"
      ],
      "text/plain": [
       "                                                 DevType  \\\n",
       "0      [Developer,  desktop or enterprise application...   \n",
       "1            [Developer,  full-stack;Developer,  mobile]   \n",
       "2                                                     []   \n",
       "3                                                     []   \n",
       "4                                                     []   \n",
       "...                                                  ...   \n",
       "64456                              [Senior executive/VP]   \n",
       "64457                                                 []   \n",
       "64458                                                 []   \n",
       "64459                                                 []   \n",
       "64460                                                 []   \n",
       "\n",
       "                                      LanguageWorkedWith  \\\n",
       "0                                 C#;HTML/CSS;JavaScript   \n",
       "1                                       JavaScript;Swift   \n",
       "2                               Objective-C;Python;Swift   \n",
       "3                                                    NaN   \n",
       "4                                      HTML/CSS;Ruby;SQL   \n",
       "...                                                  ...   \n",
       "64456                                                NaN   \n",
       "64457  Assembly;Bash/Shell/PowerShell;C;C#;C++;Dart;G...   \n",
       "64458                                                NaN   \n",
       "64459                                           HTML/CSS   \n",
       "64460                    C#;HTML/CSS;Java;JavaScript;SQL   \n",
       "\n",
       "                                      DatabaseWorkedWith  \\\n",
       "0              Elasticsearch;Microsoft SQL Server;Oracle   \n",
       "1                                                    NaN   \n",
       "2                                                    NaN   \n",
       "3                                                    NaN   \n",
       "4                          MySQL;PostgreSQL;Redis;SQLite   \n",
       "...                                                  ...   \n",
       "64456                                                NaN   \n",
       "64457  Cassandra;Couchbase;DynamoDB;Elasticsearch;Fir...   \n",
       "64458                                                NaN   \n",
       "64459                                             Oracle   \n",
       "64460          MariaDB;Microsoft SQL Server;MySQL;Oracle   \n",
       "\n",
       "                           WebframeWorkedWith MiscTechWorkedWith  \n",
       "0                        ASP.NET;ASP.NET Core     .NET;.NET Core  \n",
       "1                                         NaN       React Native  \n",
       "2                                         NaN                NaN  \n",
       "3                                         NaN                NaN  \n",
       "4                               Ruby on Rails            Ansible  \n",
       "...                                       ...                ...  \n",
       "64456                                     NaN                NaN  \n",
       "64457                                     NaN                NaN  \n",
       "64458                                     NaN                NaN  \n",
       "64459                                     NaN                NaN  \n",
       "64460  Angular;Angular.js;ASP.NET Core;jQuery     .NET;.NET Core  \n",
       "\n",
       "[64461 rows x 5 columns]"
      ]
     },
     "execution_count": 4,
     "metadata": {},
     "output_type": "execute_result"
    }
   ],
   "source": [
    "raw_df[ROLE_COLS + TECH_COLS]"
   ]
  },
  {
   "cell_type": "markdown",
   "metadata": {},
   "source": [
    "Onehot enconde"
   ]
  },
  {
   "cell_type": "code",
   "execution_count": 6,
   "metadata": {},
   "outputs": [
    {
     "name": "stdout",
     "output_type": "stream",
     "text": [
      "<class 'pandas.core.frame.DataFrame'>\n",
      "RangeIndex: 64461 entries, 0 to 64460\n",
      "Data columns (total 61 columns):\n",
      " #   Column                        Non-Null Count  Dtype  \n",
      "---  ------                        --------------  -----  \n",
      " 0   Respondent                    64461 non-null  int64  \n",
      " 1   MainBranch                    64461 non-null  object \n",
      " 2   Hobbyist                      64416 non-null  object \n",
      " 3   Age                           45446 non-null  float64\n",
      " 4   Age1stCode                    57900 non-null  float32\n",
      " 5   CompFreq                      40069 non-null  object \n",
      " 6   CompTotal                     34826 non-null  float64\n",
      " 7   ConvertedComp                 34756 non-null  float64\n",
      " 8   Country                       64461 non-null  object \n",
      " 9   CurrencyDesc                  45472 non-null  object \n",
      " 10  CurrencySymbol                45472 non-null  object \n",
      " 11  DatabaseDesireNextYear        44070 non-null  object \n",
      " 12  DatabaseWorkedWith            49537 non-null  object \n",
      " 13  DevType                       64461 non-null  object \n",
      " 14  EdLevel                       64461 non-null  object \n",
      " 15  Employment                    64461 non-null  object \n",
      " 16  Ethnicity                     64461 non-null  object \n",
      " 17  Gender                        64461 non-null  object \n",
      " 18  JobFactors                    64461 non-null  object \n",
      " 19  JobSat                        45194 non-null  object \n",
      " 20  JobSeek                       64461 non-null  object \n",
      " 21  LanguageDesireNextYear        54113 non-null  object \n",
      " 22  LanguageWorkedWith            57378 non-null  object \n",
      " 23  MiscTechDesireNextYear        42379 non-null  object \n",
      " 24  MiscTechWorkedWith            40314 non-null  object \n",
      " 25  NEWCollabToolsDesireNextYear  64461 non-null  object \n",
      " 26  NEWCollabToolsWorkedWith      64461 non-null  object \n",
      " 27  NEWDevOps                     42686 non-null  object \n",
      " 28  NEWDevOpsImpt                 41732 non-null  object \n",
      " 29  NEWEdImpt                     48465 non-null  object \n",
      " 30  NEWJobHunt                    42286 non-null  object \n",
      " 31  NEWJobHuntResearch            64461 non-null  object \n",
      " 32  NEWLearn                      56156 non-null  object \n",
      " 33  NEWOffTopic                   50804 non-null  object \n",
      " 34  NEWOnboardGood                42623 non-null  object \n",
      " 35  NEWOtherComms                 57205 non-null  object \n",
      " 36  NEWOvertime                   43231 non-null  object \n",
      " 37  NEWPurchaseResearch           37321 non-null  object \n",
      " 38  NEWPurpleLink                 64461 non-null  object \n",
      " 39  NEWSOSites                    58275 non-null  object \n",
      " 40  NEWStuck                      54983 non-null  object \n",
      " 41  OpSys                         56228 non-null  object \n",
      " 42  OrgSize                       64461 non-null  object \n",
      " 43  PlatformDesireNextYear        50605 non-null  object \n",
      " 44  PlatformWorkedWith            53843 non-null  object \n",
      " 45  PurchaseWhat                  39364 non-null  object \n",
      " 46  Sexuality                     43992 non-null  object \n",
      " 47  SOAccount                     56805 non-null  object \n",
      " 48  SOComm                        64461 non-null  object \n",
      " 49  SOPartFreq                    46792 non-null  object \n",
      " 50  SOVisitFreq                   56970 non-null  object \n",
      " 51  SurveyEase                    51802 non-null  object \n",
      " 52  SurveyLength                  51701 non-null  object \n",
      " 53  Trans                         49345 non-null  object \n",
      " 54  UndergradMajor                64461 non-null  object \n",
      " 55  WebframeDesireNextYear        40024 non-null  object \n",
      " 56  WebframeWorkedWith            42279 non-null  object \n",
      " 57  WelcomeChange                 52683 non-null  object \n",
      " 58  WorkWeekHrs                   41151 non-null  float64\n",
      " 59  YearsCode                     57684 non-null  float32\n",
      " 60  YearsCodePro                  46349 non-null  float32\n",
      "dtypes: float32(3), float64(4), int64(1), object(53)\n",
      "memory usage: 29.3+ MB\n"
     ]
    }
   ],
   "source": [
    "df = raw_df.copy()\n",
    "df.info()"
   ]
  },
  {
   "cell_type": "code",
   "execution_count": 5,
   "metadata": {},
   "outputs": [
    {
     "ename": "TypeError",
     "evalue": "'float' object is not iterable",
     "output_type": "error",
     "traceback": [
      "\u001b[1;31m---------------------------------------------------------------------------\u001b[0m",
      "\u001b[1;31mTypeError\u001b[0m                                 Traceback (most recent call last)",
      "\u001b[1;32mc:\\Users\\Hashem\\Link TSP\\Project1\\notebooks\\01_exp;oration.ipynb Cell 7'\u001b[0m in \u001b[0;36m<cell line: 4>\u001b[1;34m()\u001b[0m\n\u001b[0;32m      <a href='vscode-notebook-cell:/c%3A/Users/Hashem/Link%20TSP/Project1/notebooks/01_exp%3Boration.ipynb#ch0000006?line=3'>4</a>\u001b[0m \u001b[39mfor\u001b[39;00m col \u001b[39min\u001b[39;00m ROLE_COLS \u001b[39m+\u001b[39m TECH_COLS:\n\u001b[0;32m      <a href='vscode-notebook-cell:/c%3A/Users/Hashem/Link%20TSP/Project1/notebooks/01_exp%3Boration.ipynb#ch0000006?line=4'>5</a>\u001b[0m     binarize \u001b[39m=\u001b[39m MultiLabelBinarizer()\n\u001b[1;32m----> <a href='vscode-notebook-cell:/c%3A/Users/Hashem/Link%20TSP/Project1/notebooks/01_exp%3Boration.ipynb#ch0000006?line=5'>6</a>\u001b[0m     encoded_df \u001b[39m=\u001b[39m pd\u001b[39m.\u001b[39mDataFrame(binarize\u001b[39m.\u001b[39;49mfit_transform(df[col]),\n\u001b[0;32m      <a href='vscode-notebook-cell:/c%3A/Users/Hashem/Link%20TSP/Project1/notebooks/01_exp%3Boration.ipynb#ch0000006?line=6'>7</a>\u001b[0m                                 columns \u001b[39m=\u001b[39m binarize\u001b[39m.\u001b[39mclasses_,\n\u001b[0;32m      <a href='vscode-notebook-cell:/c%3A/Users/Hashem/Link%20TSP/Project1/notebooks/01_exp%3Boration.ipynb#ch0000006?line=7'>8</a>\u001b[0m                                 index \u001b[39m=\u001b[39m df[col]\u001b[39m.\u001b[39mindex)\n\u001b[0;32m      <a href='vscode-notebook-cell:/c%3A/Users/Hashem/Link%20TSP/Project1/notebooks/01_exp%3Boration.ipynb#ch0000006?line=8'>9</a>\u001b[0m     encoded_dfs[col] \u001b[39m=\u001b[39m encoded_df\n",
      "File \u001b[1;32mc:\\Users\\Hashem\\AppData\\Local\\Programs\\Python\\Python39\\lib\\site-packages\\sklearn\\preprocessing\\_label.py:797\u001b[0m, in \u001b[0;36mMultiLabelBinarizer.fit_transform\u001b[1;34m(self, y)\u001b[0m\n\u001b[0;32m    795\u001b[0m class_mapping \u001b[39m=\u001b[39m defaultdict(\u001b[39mint\u001b[39m)\n\u001b[0;32m    796\u001b[0m class_mapping\u001b[39m.\u001b[39mdefault_factory \u001b[39m=\u001b[39m class_mapping\u001b[39m.\u001b[39m\u001b[39m__len__\u001b[39m\n\u001b[1;32m--> 797\u001b[0m yt \u001b[39m=\u001b[39m \u001b[39mself\u001b[39;49m\u001b[39m.\u001b[39;49m_transform(y, class_mapping)\n\u001b[0;32m    799\u001b[0m \u001b[39m# sort classes and reorder columns\u001b[39;00m\n\u001b[0;32m    800\u001b[0m tmp \u001b[39m=\u001b[39m \u001b[39msorted\u001b[39m(class_mapping, key\u001b[39m=\u001b[39mclass_mapping\u001b[39m.\u001b[39mget)\n",
      "File \u001b[1;32mc:\\Users\\Hashem\\AppData\\Local\\Programs\\Python\\Python39\\lib\\site-packages\\sklearn\\preprocessing\\_label.py:870\u001b[0m, in \u001b[0;36mMultiLabelBinarizer._transform\u001b[1;34m(self, y, class_mapping)\u001b[0m\n\u001b[0;32m    868\u001b[0m \u001b[39mfor\u001b[39;00m labels \u001b[39min\u001b[39;00m y:\n\u001b[0;32m    869\u001b[0m     index \u001b[39m=\u001b[39m \u001b[39mset\u001b[39m()\n\u001b[1;32m--> 870\u001b[0m     \u001b[39mfor\u001b[39;00m label \u001b[39min\u001b[39;00m labels:\n\u001b[0;32m    871\u001b[0m         \u001b[39mtry\u001b[39;00m:\n\u001b[0;32m    872\u001b[0m             index\u001b[39m.\u001b[39madd(class_mapping[label])\n",
      "\u001b[1;31mTypeError\u001b[0m: 'float' object is not iterable"
     ]
    }
   ],
   "source": [
    "\n",
    "\n",
    "encoded_dfs = {}\n",
    "for col in ROLE_COLS + TECH_COLS:\n",
    "    binarize = MultiLabelBinarizer()\n",
    "    encoded_df = pd.DataFrame(binarize.fit_transform(df[col]),\n",
    "                                columns = binarize.classes_,\n",
    "                                index = df[col].index)\n",
    "    encoded_dfs[col] = encoded_df"
   ]
  },
  {
   "cell_type": "code",
   "execution_count": null,
   "metadata": {},
   "outputs": [
    {
     "ename": "NameError",
     "evalue": "name 'encoded_dfs' is not defined",
     "output_type": "error",
     "traceback": [
      "\u001b[1;31m---------------------------------------------------------------------------\u001b[0m",
      "\u001b[1;31mNameError\u001b[0m                                 Traceback (most recent call last)",
      "\u001b[1;32mc:\\Users\\Hashem\\Link TSP\\Project1\\notebooks\\01_exp;oration.ipynb Cell 7'\u001b[0m in \u001b[0;36m<cell line: 2>\u001b[1;34m()\u001b[0m\n\u001b[0;32m      <a href='vscode-notebook-cell:/c%3A/Users/Hashem/Link%20TSP/Project1/notebooks/01_exp%3Boration.ipynb#ch0000006?line=0'>1</a>\u001b[0m \u001b[39m# Marge 1-hot encoded\u001b[39;00m\n\u001b[1;32m----> <a href='vscode-notebook-cell:/c%3A/Users/Hashem/Link%20TSP/Project1/notebooks/01_exp%3Boration.ipynb#ch0000006?line=1'>2</a>\u001b[0m df \u001b[39m=\u001b[39m pd\u001b[39m.\u001b[39mconcat(encoded_dfs, axis \u001b[39m=\u001b[39m \u001b[39m1\u001b[39m)\n",
      "\u001b[1;31mNameError\u001b[0m: name 'encoded_dfs' is not defined"
     ]
    }
   ],
   "source": [
    "# Marge 1-hot encoded\n",
    "df = pd.concat(encoded_dfs, axis = 1)"
   ]
  },
  {
   "cell_type": "code",
   "execution_count": null,
   "metadata": {},
   "outputs": [
    {
     "data": {
      "text/plain": [
       "'c:\\\\Users\\\\Hashem\\\\Link TSP\\\\Project1\\\\notebooks'"
      ]
     },
     "execution_count": 12,
     "metadata": {},
     "output_type": "execute_result"
    }
   ],
   "source": [
    "pwd"
   ]
  }
 ],
 "metadata": {
  "kernelspec": {
   "display_name": "Python 3.9.12 64-bit",
   "language": "python",
   "name": "python3"
  },
  "language_info": {
   "codemirror_mode": {
    "name": "ipython",
    "version": 3
   },
   "file_extension": ".py",
   "mimetype": "text/x-python",
   "name": "python",
   "nbconvert_exporter": "python",
   "pygments_lexer": "ipython3",
   "version": "3.9.12"
  },
  "orig_nbformat": 4,
  "vscode": {
   "interpreter": {
    "hash": "d572515f1fff8ca12152bda1aafe196fc70506fd3204d9cbfbbbd2ed6f446cdc"
   }
  }
 },
 "nbformat": 4,
 "nbformat_minor": 2
}
